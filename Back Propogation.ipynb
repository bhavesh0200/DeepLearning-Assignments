{
 "cells": [
  {
   "cell_type": "code",
   "execution_count": 1,
   "id": "66a62d73",
   "metadata": {},
   "outputs": [],
   "source": [
    "from math import exp\n",
    "from random import random, seed"
   ]
  },
  {
   "cell_type": "code",
   "execution_count": 13,
   "id": "5b377e97",
   "metadata": {},
   "outputs": [
    {
     "name": "stdout",
     "output_type": "stream",
     "text": [
      "h [{'weights': [0.9956227441736349, 0.5310292537654488, 0.24754699737190866, 0.7487320289905907]}, {'weights': [0.11004594148375446, 0.40610932763536167, 0.7263333430413429, 0.06161753980474227]}, {'weights': [0.710427551377476, 0.6823684956608989, 0.08960406405275467, 0.38188006802804675]}]\n",
      "o [{'weights': [0.4564163371173271, 0.4620612873070401, 0.5585084617568428, 0.3151458115965079]}, {'weights': [0.07239024510562331, 0.26902992408299153, 0.22680596007786435, 0.7450422469733896]}, {'weights': [0.11223788703726256, 0.4730838680171445, 0.7888568791918448, 0.24813024351457746]}]\n",
      "[[{'weights': [0.9956227441736349, 0.5310292537654488, 0.24754699737190866, 0.7487320289905907]}, {'weights': [0.11004594148375446, 0.40610932763536167, 0.7263333430413429, 0.06161753980474227]}, {'weights': [0.710427551377476, 0.6823684956608989, 0.08960406405275467, 0.38188006802804675]}], [{'weights': [0.4564163371173271, 0.4620612873070401, 0.5585084617568428, 0.3151458115965079]}, {'weights': [0.07239024510562331, 0.26902992408299153, 0.22680596007786435, 0.7450422469733896]}, {'weights': [0.11223788703726256, 0.4730838680171445, 0.7888568791918448, 0.24813024351457746]}]]\n"
     ]
    }
   ],
   "source": [
    "def initialize_network(n_inputs,n_hidden,n_outputs):\n",
    "    network = list()\n",
    "    hidden_layer = [{'weights':[random() for i in range (n_inputs+1)]} for i in range(n_hidden)]\n",
    "    network.append(hidden_layer)\n",
    "    print(\"h\", hidden_layer)\n",
    "    output_layer = [{'weights':[random() for i in range (n_inputs+1)]} for i in range(n_hidden)]\n",
    "    print('o',output_layer)\n",
    "    network.append(output_layer)\n",
    "    return network\n",
    "\n",
    "if __name__ == '__main__':\n",
    "    n = initialize_network(3,3,1)\n",
    "    print(n)"
   ]
  },
  {
   "cell_type": "code",
   "execution_count": 15,
   "id": "6b7979fa",
   "metadata": {},
   "outputs": [],
   "source": [
    "def activate(weights, inputs):\n",
    "    bias = weights[-1]\n",
    "    for i in range(len(weights)-1):\n",
    "        activation = bias + (weights[i]*inputs[i])\n",
    "    return activation"
   ]
  },
  {
   "cell_type": "code",
   "execution_count": 16,
   "id": "af2ad4a7",
   "metadata": {},
   "outputs": [],
   "source": [
    "def transfer(activation):\n",
    "    return 1.0/(1.0 + exp(-activation))"
   ]
  },
  {
   "cell_type": "code",
   "execution_count": 17,
   "id": "b9d109a3",
   "metadata": {},
   "outputs": [],
   "source": [
    "# Forward Pass\n",
    "def forward_progate(network,x):\n",
    "    inputs = x\n",
    "    for layer in network:\n",
    "        new_input = []\n",
    "        for neuron in layer:\n",
    "            activation = activate(neuron['Weights'],inputs)\n",
    "            neuron['output'] = transfer(activation)\n",
    "            new_inputs.append(neuron['output'])\n",
    "        inputs = new_inputs\n",
    "        return inputs"
   ]
  },
  {
   "cell_type": "code",
   "execution_count": 18,
   "id": "2a77bf86",
   "metadata": {},
   "outputs": [],
   "source": [
    "#Calculate derevative\n",
    "def transfer_dravitive(output):\n",
    "    return output*(1.0 - output)"
   ]
  },
  {
   "cell_type": "code",
   "execution_count": 20,
   "id": "a587cb6c",
   "metadata": {},
   "outputs": [],
   "source": [
    "def backward_propogate_error(network,expected):\n",
    "    for i in reversed(range(len(network))):\n",
    "        layer = network[i]\n",
    "        errors = list()\n",
    "        if i != len(network)-1:\n",
    "            for j in range(len(layer)):\n",
    "                error = 0.0\n",
    "                \n",
    "                for neuron in network[i+1]:\n",
    "                    error += (neuron['weights'][j]*neuron['delta'])\n",
    "                    errors.append(error)\n",
    "                    \n",
    "        else:\n",
    "            for j in range(len(layer)):\n",
    "                neuron = layer[j]\n",
    "                errors.append(expected[j] - neuron['output'])\n",
    "        for j in range(len(layer)):\n",
    "            neuron = layer[j]\n",
    "            neuron['delta'] = errors[j]*transfer_dravitive(neuron['output'])"
   ]
  },
  {
   "cell_type": "code",
   "execution_count": null,
   "id": "20e0c005",
   "metadata": {},
   "outputs": [],
   "source": [
    "def update_weights(network,row,l_rate):\n",
    "    for i in range(len(network)):\n",
    "        inputs = row[:-1]\n",
    "        if i != 0:\n",
    "            inputs = [neuron['output'] for neuron in network[i - 1]]\n",
    "        for neuron"
   ]
  }
 ],
 "metadata": {
  "kernelspec": {
   "display_name": "Python 3 (ipykernel)",
   "language": "python",
   "name": "python3"
  },
  "language_info": {
   "codemirror_mode": {
    "name": "ipython",
    "version": 3
   },
   "file_extension": ".py",
   "mimetype": "text/x-python",
   "name": "python",
   "nbconvert_exporter": "python",
   "pygments_lexer": "ipython3",
   "version": "3.9.12"
  }
 },
 "nbformat": 4,
 "nbformat_minor": 5
}
