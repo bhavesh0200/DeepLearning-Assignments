{
 "cells": [
  {
   "cell_type": "code",
   "execution_count": 1,
   "id": "6bb591cc",
   "metadata": {},
   "outputs": [],
   "source": [
    "import numpy as np\n",
    "import pandas as pd\n",
    "import matplotlib as mol\n",
    "import matplotlib.pyplot as plt\n",
    "%matplotlib inline"
   ]
  },
  {
   "cell_type": "code",
   "execution_count": 2,
   "id": "7149f7e1",
   "metadata": {},
   "outputs": [],
   "source": [
    "import tensorflow as tf\n",
    "from tensorflow import keras"
   ]
  },
  {
   "cell_type": "code",
   "execution_count": 3,
   "id": "9798f5d7",
   "metadata": {},
   "outputs": [],
   "source": [
    "import keras.utils.np_utils as ku"
   ]
  },
  {
   "cell_type": "code",
   "execution_count": 4,
   "id": "feb96f4b",
   "metadata": {},
   "outputs": [],
   "source": [
    "from keras.datasets import fashion_mnist"
   ]
  },
  {
   "cell_type": "code",
   "execution_count": 5,
   "id": "18313f0c",
   "metadata": {},
   "outputs": [
    {
     "data": {
      "text/plain": [
       "[PhysicalDevice(name='/physical_device:GPU:0', device_type='GPU')]"
      ]
     },
     "execution_count": 5,
     "metadata": {},
     "output_type": "execute_result"
    }
   ],
   "source": [
    "tf.config.list_physical_devices('GPU')"
   ]
  },
  {
   "cell_type": "code",
   "execution_count": 6,
   "id": "39927201",
   "metadata": {},
   "outputs": [],
   "source": [
    "(train_images, train_labels), (test_images, test_labels) = fashion_mnist.load_data()"
   ]
  },
  {
   "cell_type": "code",
   "execution_count": 7,
   "id": "37ae94f2",
   "metadata": {},
   "outputs": [
    {
     "name": "stdout",
     "output_type": "stream",
     "text": [
      "(28, 28)\n"
     ]
    }
   ],
   "source": [
    "print(train_images[0].shape)"
   ]
  },
  {
   "cell_type": "code",
   "execution_count": 8,
   "id": "5d97601f",
   "metadata": {},
   "outputs": [],
   "source": [
    "class_names = ['T-shirt/top','Trouser','Pullover','Dress','Coat',\n",
    "              'Sandal','Shirt','Sneaker','Bag','Ankle boot']"
   ]
  },
  {
   "cell_type": "code",
   "execution_count": 9,
   "id": "d4fe8d3c",
   "metadata": {},
   "outputs": [
    {
     "data": {
      "image/png": "[encoded data removed]",
      "text/plain": [
       "<Figure size 640x480 with 1 Axes>"
      ]
     },
     "metadata": {},
     "output_type": "display_data"
    }
   ],
   "source": [
    "plt.imshow(train_images[1],cmap=plt.cm.binary)\n",
    "plt.show()"
   ]
  },
  {
   "cell_type": "code",
   "execution_count": 10,
   "id": "e8802d84",
   "metadata": {},
   "outputs": [
    {
     "name": "stdout",
     "output_type": "stream",
     "text": [
      "(60000, 28, 28) (60000,)\n"
     ]
    }
   ],
   "source": [
    "print(train_images.shape, train_labels.shape)"
   ]
  },
  {
   "cell_type": "code",
   "execution_count": 11,
   "id": "b71a3f0f",
   "metadata": {},
   "outputs": [],
   "source": [
    "#Data reshaping to 4d #1 for chamodelel, 3d array ie height weight chamodelel \n",
    "train_images = train_images.reshape((60000,28,28,1))\n",
    "test_images = test_images.reshape((10000,28,28,1))"
   ]
  },
  {
   "cell_type": "code",
   "execution_count": 12,
   "id": "8ae7005c",
   "metadata": {},
   "outputs": [
    {
     "data": {
      "text/plain": [
       "(60000, 28, 28, 1)"
      ]
     },
     "execution_count": 12,
     "metadata": {},
     "output_type": "execute_result"
    }
   ],
   "source": [
    "train_images.shape"
   ]
  },
  {
   "cell_type": "code",
   "execution_count": 13,
   "id": "f7c60503",
   "metadata": {},
   "outputs": [],
   "source": [
    "#Creating lables\n",
    "y_label = test_labels.copy()"
   ]
  },
  {
   "cell_type": "markdown",
   "id": "5c45464c",
   "metadata": {},
   "source": [
    "### Data Normilazing"
   ]
  },
  {
   "cell_type": "code",
   "execution_count": 14,
   "id": "130da3f3",
   "metadata": {},
   "outputs": [
    {
     "name": "stdout",
     "output_type": "stream",
     "text": [
      "(60000, 28, 28, 1)\n",
      "(10000, 28, 28, 1)\n"
     ]
    }
   ],
   "source": [
    "# pixel values are between 0 to 255\n",
    "train_images_n = train_images.astype('float32')/255 \n",
    "test_images_n = test_images.astype('float32')/255\n",
    "print(train_images_n.shape)\n",
    "print(test_images.shape)"
   ]
  },
  {
   "cell_type": "code",
   "execution_count": 15,
   "id": "07dce4ff",
   "metadata": {},
   "outputs": [
    {
     "name": "stdout",
     "output_type": "stream",
     "text": [
      "[9 0 0 ... 3 0 5]\n"
     ]
    }
   ],
   "source": [
    "print(train_labels)"
   ]
  },
  {
   "cell_type": "code",
   "execution_count": 16,
   "id": "0321ddad",
   "metadata": {},
   "outputs": [
    {
     "name": "stdout",
     "output_type": "stream",
     "text": [
      "uint8\n"
     ]
    }
   ],
   "source": [
    "print(train_labels.dtype)"
   ]
  },
  {
   "cell_type": "code",
   "execution_count": 17,
   "id": "80668dd8",
   "metadata": {},
   "outputs": [
    {
     "name": "stdout",
     "output_type": "stream",
     "text": [
      "[[0. 0. 1. 0. 0. 0. 0. 0. 0. 0.]\n",
      " [0. 0. 0. 0. 0. 0. 0. 1. 0. 0.]\n",
      " [0. 0. 1. 0. 0. 0. 0. 0. 0. 0.]\n",
      " [0. 0. 0. 0. 0. 1. 0. 0. 0. 0.]\n",
      " [0. 0. 0. 0. 0. 1. 0. 0. 0. 0.]]\n"
     ]
    }
   ],
   "source": [
    "train_labels = ku.to_categorical(train_labels)\n",
    "print(train_labels[5:10,])"
   ]
  },
  {
   "cell_type": "code",
   "execution_count": 18,
   "id": "1f4144c7",
   "metadata": {},
   "outputs": [
    {
     "name": "stdout",
     "output_type": "stream",
     "text": [
      "[[0. 0. 0. ... 0. 0. 1.]\n",
      " [0. 0. 1. ... 0. 0. 0.]\n",
      " [0. 1. 0. ... 0. 0. 0.]\n",
      " ...\n",
      " [0. 0. 0. ... 0. 1. 0.]\n",
      " [0. 1. 0. ... 0. 0. 0.]\n",
      " [0. 0. 0. ... 0. 0. 0.]]\n"
     ]
    }
   ],
   "source": [
    "test_labels = ku.to_categorical(test_labels)\n",
    "print(test_labels)"
   ]
  },
  {
   "cell_type": "markdown",
   "id": "034e3225",
   "metadata": {},
   "source": [
    "### Split data to train/validation/test sets"
   ]
  },
  {
   "cell_type": "code",
   "execution_count": 19,
   "id": "1397e6b6",
   "metadata": {},
   "outputs": [],
   "source": [
    "X_valid, X_train = train_images_n[:5000],train_images_n[5000:]\n",
    "y_valid,y_train = train_labels[:5000], train_labels[5000:]\n",
    "X_test = test_images_n "
   ]
  },
  {
   "cell_type": "code",
   "execution_count": 20,
   "id": "af1c746e",
   "metadata": {},
   "outputs": [],
   "source": [
    "### Creating Model Architecture\n",
    "np.random.seed(45)\n",
    "tf.random.set_seed(45)"
   ]
  },
  {
   "cell_type": "code",
   "execution_count": 21,
   "id": "b2aac16c",
   "metadata": {},
   "outputs": [],
   "source": [
    "model = keras.models.Sequential()\n",
    "model.add(keras.layers.Flatten(input_shape = [28,28]))\n",
    "model.add(keras.layers.Dense(300, activation='sigmoid'))\n",
    "model.add(keras.layers.Dense(100,activation = 'relu'))\n",
    "model.add(keras.layers.Dense(10, activation = 'softmax'))"
   ]
  },
  {
   "cell_type": "code",
   "execution_count": 22,
   "id": "756ca619",
   "metadata": {},
   "outputs": [
    {
     "name": "stdout",
     "output_type": "stream",
     "text": [
      "Model: \"sequential\"\n",
      "_________________________________________________________________\n",
      " Layer (type)                Output Shape              Param #   \n",
      "=================================================================\n",
      " flatten (Flatten)           (None, 784)               0         \n",
      "                                                                 \n",
      " dense (Dense)               (None, 300)               235500    \n",
      "                                                                 \n",
      " dense_1 (Dense)             (None, 100)               30100     \n",
      "                                                                 \n",
      " dense_2 (Dense)             (None, 10)                1010      \n",
      "                                                                 \n",
      "=================================================================\n",
      "Total params: 266,610\n",
      "Trainable params: 266,610\n",
      "Non-trainable params: 0\n",
      "_________________________________________________________________\n"
     ]
    }
   ],
   "source": [
    "model.summary()"
   ]
  },
  {
   "cell_type": "code",
   "execution_count": 23,
   "id": "b97a006f",
   "metadata": {},
   "outputs": [],
   "source": [
    "model.compile(optimizer = 'rmsprop', loss = 'categorical_crossentropy', metrics = ['accuracy'])"
   ]
  },
  {
   "cell_type": "code",
   "execution_count": 24,
   "id": "67b9d6d0",
   "metadata": {
    "scrolled": true
   },
   "outputs": [
    {
     "name": "stdout",
     "output_type": "stream",
     "text": [
      "Epoch 1/50\n",
      "469/469 [==============================] - 7s 7ms/step - loss: 0.7155 - accuracy: 0.7306\n",
      "Epoch 2/50\n",
      "469/469 [==============================] - 3s 6ms/step - loss: 0.5733 - accuracy: 0.7839\n",
      "Epoch 3/50\n",
      "469/469 [==============================] - 3s 6ms/step - loss: 0.5337 - accuracy: 0.8005\n",
      "Epoch 4/50\n",
      "469/469 [==============================] - 3s 6ms/step - loss: 0.5093 - accuracy: 0.8121\n",
      "Epoch 5/50\n",
      "469/469 [==============================] - 4s 8ms/step - loss: 0.4878 - accuracy: 0.8229\n",
      "Epoch 6/50\n",
      "469/469 [==============================] - 4s 9ms/step - loss: 0.4791 - accuracy: 0.8242\n",
      "Epoch 7/50\n",
      "469/469 [==============================] - 5s 11ms/step - loss: 0.4684 - accuracy: 0.8284\n",
      "Epoch 8/50\n",
      "469/469 [==============================] - 3s 6ms/step - loss: 0.4619 - accuracy: 0.8315\n",
      "Epoch 9/50\n",
      "469/469 [==============================] - 3s 7ms/step - loss: 0.4563 - accuracy: 0.8338\n",
      "Epoch 10/50\n",
      "469/469 [==============================] - 3s 7ms/step - loss: 0.4499 - accuracy: 0.8348\n",
      "Epoch 11/50\n",
      "469/469 [==============================] - 3s 6ms/step - loss: 0.4411 - accuracy: 0.8388\n",
      "Epoch 12/50\n",
      "469/469 [==============================] - 3s 6ms/step - loss: 0.4363 - accuracy: 0.8397\n",
      "Epoch 13/50\n",
      "469/469 [==============================] - 3s 6ms/step - loss: 0.4364 - accuracy: 0.8390\n",
      "Epoch 14/50\n",
      "469/469 [==============================] - 3s 6ms/step - loss: 0.4294 - accuracy: 0.8422\n",
      "Epoch 15/50\n",
      "469/469 [==============================] - 3s 6ms/step - loss: 0.4316 - accuracy: 0.8406\n",
      "Epoch 16/50\n",
      "469/469 [==============================] - 3s 6ms/step - loss: 0.4287 - accuracy: 0.8427\n",
      "Epoch 17/50\n",
      "469/469 [==============================] - 3s 6ms/step - loss: 0.4254 - accuracy: 0.8428\n",
      "Epoch 18/50\n",
      "469/469 [==============================] - 3s 7ms/step - loss: 0.4176 - accuracy: 0.8467\n",
      "Epoch 19/50\n",
      "469/469 [==============================] - 4s 9ms/step - loss: 0.4190 - accuracy: 0.8454\n",
      "Epoch 20/50\n",
      "469/469 [==============================] - 4s 8ms/step - loss: 0.4187 - accuracy: 0.8468\n",
      "Epoch 21/50\n",
      "469/469 [==============================] - 3s 6ms/step - loss: 0.4154 - accuracy: 0.8478\n",
      "Epoch 22/50\n",
      "469/469 [==============================] - 3s 5ms/step - loss: 0.4200 - accuracy: 0.8464\n",
      "Epoch 23/50\n",
      "469/469 [==============================] - 3s 5ms/step - loss: 0.4137 - accuracy: 0.8485\n",
      "Epoch 24/50\n",
      "469/469 [==============================] - 2s 5ms/step - loss: 0.4135 - accuracy: 0.8490\n",
      "Epoch 25/50\n",
      "469/469 [==============================] - 3s 6ms/step - loss: 0.4133 - accuracy: 0.8490\n",
      "Epoch 26/50\n",
      "469/469 [==============================] - 3s 7ms/step - loss: 0.4084 - accuracy: 0.8512\n",
      "Epoch 27/50\n",
      "469/469 [==============================] - 3s 6ms/step - loss: 0.4046 - accuracy: 0.8539\n",
      "Epoch 28/50\n",
      "469/469 [==============================] - 3s 6ms/step - loss: 0.4085 - accuracy: 0.8507\n",
      "Epoch 29/50\n",
      "469/469 [==============================] - 3s 6ms/step - loss: 0.4038 - accuracy: 0.8535\n",
      "Epoch 30/50\n",
      "469/469 [==============================] - 3s 6ms/step - loss: 0.3986 - accuracy: 0.8544\n",
      "Epoch 31/50\n",
      "469/469 [==============================] - 3s 6ms/step - loss: 0.3996 - accuracy: 0.8534\n",
      "Epoch 32/50\n",
      "469/469 [==============================] - 3s 6ms/step - loss: 0.3989 - accuracy: 0.8551\n",
      "Epoch 33/50\n",
      "469/469 [==============================] - 3s 6ms/step - loss: 0.3992 - accuracy: 0.8557\n",
      "Epoch 34/50\n",
      "469/469 [==============================] - 3s 6ms/step - loss: 0.4022 - accuracy: 0.8537\n",
      "Epoch 35/50\n",
      "469/469 [==============================] - 3s 7ms/step - loss: 0.3999 - accuracy: 0.8571\n",
      "Epoch 36/50\n",
      "469/469 [==============================] - 3s 6ms/step - loss: 0.3977 - accuracy: 0.8544\n",
      "Epoch 37/50\n",
      "469/469 [==============================] - 3s 6ms/step - loss: 0.3931 - accuracy: 0.8594\n",
      "Epoch 38/50\n",
      "469/469 [==============================] - 3s 6ms/step - loss: 0.3961 - accuracy: 0.8570\n",
      "Epoch 39/50\n",
      "469/469 [==============================] - 4s 8ms/step - loss: 0.3957 - accuracy: 0.8572\n",
      "Epoch 40/50\n",
      "469/469 [==============================] - 3s 6ms/step - loss: 0.3930 - accuracy: 0.8590\n",
      "Epoch 41/50\n",
      "469/469 [==============================] - 3s 5ms/step - loss: 0.3933 - accuracy: 0.8579\n",
      "Epoch 42/50\n",
      "469/469 [==============================] - 3s 6ms/step - loss: 0.3890 - accuracy: 0.8607\n",
      "Epoch 43/50\n",
      "469/469 [==============================] - 3s 6ms/step - loss: 0.3849 - accuracy: 0.8605\n",
      "Epoch 44/50\n",
      "469/469 [==============================] - 3s 6ms/step - loss: 0.3815 - accuracy: 0.8628\n",
      "Epoch 45/50\n",
      "469/469 [==============================] - 3s 6ms/step - loss: 0.3856 - accuracy: 0.8600\n",
      "Epoch 46/50\n",
      "469/469 [==============================] - 4s 8ms/step - loss: 0.3884 - accuracy: 0.8595\n",
      "Epoch 47/50\n",
      "469/469 [==============================] - 3s 7ms/step - loss: 0.3814 - accuracy: 0.8625\n",
      "Epoch 48/50\n",
      "469/469 [==============================] - 4s 8ms/step - loss: 0.3800 - accuracy: 0.8622\n",
      "Epoch 49/50\n",
      "469/469 [==============================] - 4s 8ms/step - loss: 0.3833 - accuracy: 0.8618\n",
      "Epoch 50/50\n",
      "469/469 [==============================] - 5s 10ms/step - loss: 0.3818 - accuracy: 0.8626\n"
     ]
    }
   ],
   "source": [
    "model_history = model.fit(train_images, train_labels, epochs = 50, batch_size = 128)"
   ]
  },
  {
   "cell_type": "code",
   "execution_count": 24,
   "id": "9e973bff",
   "metadata": {},
   "outputs": [
    {
     "data": {
      "text/plain": [
       "{'loss': [0.7123091220855713,\n",
       "  0.5704681873321533,\n",
       "  0.5398558974266052,\n",
       "  0.5093451142311096,\n",
       "  0.5000022649765015,\n",
       "  0.4827222228050232,\n",
       "  0.47303810715675354,\n",
       "  0.4574669301509857,\n",
       "  0.45726442337036133,\n",
       "  0.4504869878292084,\n",
       "  0.44566187262535095,\n",
       "  0.43924152851104736,\n",
       "  0.4390326738357544,\n",
       "  0.4382217228412628,\n",
       "  0.4365714490413666,\n",
       "  0.4310164749622345,\n",
       "  0.42952409386634827,\n",
       "  0.43120691180229187,\n",
       "  0.42335712909698486,\n",
       "  0.4236019551753998,\n",
       "  0.4293223023414612,\n",
       "  0.4193176329135895,\n",
       "  0.42053958773612976,\n",
       "  0.4138781428337097,\n",
       "  0.41409435868263245,\n",
       "  0.4123118221759796,\n",
       "  0.4141530692577362,\n",
       "  0.4097115099430084,\n",
       "  0.41069895029067993,\n",
       "  0.40745821595191956,\n",
       "  0.4093601703643799,\n",
       "  0.4135601222515106,\n",
       "  0.402653306722641,\n",
       "  0.40210556983947754,\n",
       "  0.39629417657852173,\n",
       "  0.39780253171920776,\n",
       "  0.3962479531764984,\n",
       "  0.3952800929546356,\n",
       "  0.39745280146598816,\n",
       "  0.39408665895462036,\n",
       "  0.3961133658885956,\n",
       "  0.3914991319179535,\n",
       "  0.3906610906124115,\n",
       "  0.3948419690132141,\n",
       "  0.3889017701148987,\n",
       "  0.3965074121952057,\n",
       "  0.39152345061302185,\n",
       "  0.3906611204147339,\n",
       "  0.3898310959339142,\n",
       "  0.387721449136734],\n",
       " 'accuracy': [0.732283353805542,\n",
       "  0.7846166491508484,\n",
       "  0.7981333136558533,\n",
       "  0.8114833235740662,\n",
       "  0.8167833089828491,\n",
       "  0.8231333494186401,\n",
       "  0.8275333046913147,\n",
       "  0.8312666416168213,\n",
       "  0.8321999907493591,\n",
       "  0.8346999883651733,\n",
       "  0.8355666399002075,\n",
       "  0.838450014591217,\n",
       "  0.838866651058197,\n",
       "  0.8399500250816345,\n",
       "  0.8395500183105469,\n",
       "  0.8432833552360535,\n",
       "  0.8446499705314636,\n",
       "  0.8432833552360535,\n",
       "  0.846666693687439,\n",
       "  0.8461333513259888,\n",
       "  0.8439833521842957,\n",
       "  0.8476666808128357,\n",
       "  0.8458666801452637,\n",
       "  0.848633348941803,\n",
       "  0.8492333292961121,\n",
       "  0.8493166565895081,\n",
       "  0.8494666814804077,\n",
       "  0.8505333065986633,\n",
       "  0.8526666760444641,\n",
       "  0.8519666790962219,\n",
       "  0.8517833352088928,\n",
       "  0.8514000177383423,\n",
       "  0.8543833494186401,\n",
       "  0.8540999889373779,\n",
       "  0.8561833500862122,\n",
       "  0.855566680431366,\n",
       "  0.8565999865531921,\n",
       "  0.8564000129699707,\n",
       "  0.8576499819755554,\n",
       "  0.8571166396141052,\n",
       "  0.8574000000953674,\n",
       "  0.8586999773979187,\n",
       "  0.8589666485786438,\n",
       "  0.859000027179718,\n",
       "  0.8605499863624573,\n",
       "  0.8588833212852478,\n",
       "  0.8590499758720398,\n",
       "  0.8593833446502686,\n",
       "  0.8615333437919617,\n",
       "  0.8609333038330078]}"
      ]
     },
     "execution_count": 24,
     "metadata": {},
     "output_type": "execute_result"
    }
   ],
   "source": [
    "model_history.history"
   ]
  },
  {
   "cell_type": "code",
   "execution_count": 25,
   "id": "28de332d",
   "metadata": {},
   "outputs": [
    {
     "name": "stdout",
     "output_type": "stream",
     "text": [
      "313/313 [==============================] - 2s 5ms/step - loss: 0.4621 - accuracy: 0.8380\n"
     ]
    }
   ],
   "source": [
    "ev = model.evaluate(test_images_n,test_labels)"
   ]
  },
  {
   "cell_type": "code",
   "execution_count": 26,
   "id": "db43fcdf",
   "metadata": {},
   "outputs": [
    {
     "data": {
      "text/plain": [
       "[0.4621078670024872, 0.8379999995231628]"
      ]
     },
     "execution_count": 26,
     "metadata": {},
     "output_type": "execute_result"
    }
   ],
   "source": [
    "ev"
   ]
  },
  {
   "cell_type": "code",
   "execution_count": 27,
   "id": "4da6939a",
   "metadata": {},
   "outputs": [
    {
     "data": {
      "image/png": "[encoded data removed]",
      "text/plain": [
       "<Figure size 576x360 with 1 Axes>"
      ]
     },
     "metadata": {
      "needs_background": "light"
     },
     "output_type": "display_data"
    }
   ],
   "source": [
    "pd.DataFrame(model_history.history).plot(figsize=(8,5))\n",
    "plt.grid(True)\n",
    "plt.gca().set_ylim(0,1)\n",
    "plt.show()"
   ]
  },
  {
   "cell_type": "code",
   "execution_count": 28,
   "id": "f8966d14",
   "metadata": {},
   "outputs": [],
   "source": [
    "X_new = test_images[:3]"
   ]
  },
  {
   "cell_type": "code",
   "execution_count": 29,
   "id": "d0532ec8",
   "metadata": {},
   "outputs": [
    {
     "name": "stdout",
     "output_type": "stream",
     "text": [
      "1/1 [==============================] - 0s 220ms/step\n"
     ]
    }
   ],
   "source": [
    "y_pred = model.predict(X_new)\n",
    "y_pred\n",
    "\n",
    "classes_x=np.argmax(y_pred,axis=1)"
   ]
  },
  {
   "cell_type": "markdown",
   "id": "91b1a9e6",
   "metadata": {},
   "source": [
    "#### class_names = ['T-shirt/top','Trouser','Pullover','Dress','Coat','Sandal','Shirt','Sneaker','Bag','Ankle boot']"
   ]
  },
  {
   "cell_type": "code",
   "execution_count": 30,
   "id": "142ca7e7",
   "metadata": {},
   "outputs": [
    {
     "data": {
      "text/plain": [
       "array([[0., 0., 0., 0., 0., 0., 0., 0., 0., 1.],\n",
       "       [0., 0., 1., 0., 0., 0., 0., 0., 0., 0.],\n",
       "       [0., 1., 0., 0., 0., 0., 0., 0., 0., 0.]], dtype=float32)"
      ]
     },
     "execution_count": 30,
     "metadata": {},
     "output_type": "execute_result"
    }
   ],
   "source": [
    "test_labels[:3]"
   ]
  },
  {
   "cell_type": "code",
   "execution_count": 31,
   "id": "67c4d614",
   "metadata": {},
   "outputs": [
    {
     "name": "stdout",
     "output_type": "stream",
     "text": [
      "AxesImage(54,36;334.8x217.44)\n"
     ]
    },
    {
     "data": {
      "image/png": "[encoded data removed]",
      "text/plain": [
       "<Figure size 432x288 with 1 Axes>"
      ]
     },
     "metadata": {
      "needs_background": "light"
     },
     "output_type": "display_data"
    }
   ],
   "source": [
    "print(plt.imshow(test_images[0].reshape((28,28))))"
   ]
  },
  {
   "cell_type": "code",
   "execution_count": 32,
   "id": "055bee29",
   "metadata": {},
   "outputs": [
    {
     "name": "stdout",
     "output_type": "stream",
     "text": [
      "AxesImage(54,36;334.8x217.44)\n"
     ]
    },
    {
     "data": {
      "image/png": "[encoded data removed]",
      "text/plain": [
       "<Figure size 432x288 with 1 Axes>"
      ]
     },
     "metadata": {
      "needs_background": "light"
     },
     "output_type": "display_data"
    }
   ],
   "source": [
    "print(plt.imshow(test_images[1].reshape((28,28))))"
   ]
  },
  {
   "cell_type": "code",
   "execution_count": null,
   "id": "49c42524",
   "metadata": {},
   "outputs": [],
   "source": [
    "keras.backend.clear_session"
   ]
  },
  {
   "cell_type": "code",
   "execution_count": null,
   "id": "0d90766b",
   "metadata": {},
   "outputs": [],
   "source": [
    "del model"
   ]
  },
  {
   "cell_type": "code",
   "execution_count": null,
   "id": "6c8b389a",
   "metadata": {},
   "outputs": [],
   "source": []
  }
 ],
 "metadata": {
  "kernelspec": {
   "display_name": "Python 3 (ipykernel)",
   "language": "python",
   "name": "python3"
  },
  "language_info": {
   "codemirror_mode": {
    "name": "ipython",
    "version": 3
   },
   "file_extension": ".py",
   "mimetype": "text/x-python",
   "name": "python",
   "nbconvert_exporter": "python",
   "pygments_lexer": "ipython3",
   "version": "3.9.12"
  }
 },
 "nbformat": 4,
 "nbformat_minor": 5
}
